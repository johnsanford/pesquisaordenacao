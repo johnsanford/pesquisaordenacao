{
  "nbformat": 4,
  "nbformat_minor": 0,
  "metadata": {
    "colab": {
      "name": "BucketSort.ipynb",
      "provenance": [],
      "authorship_tag": "ABX9TyMksjqllPrMWBJJVA+yJVrX",
      "include_colab_link": true
    },
    "kernelspec": {
      "name": "python3",
      "display_name": "Python 3"
    }
  },
  "cells": [
    {
      "cell_type": "markdown",
      "metadata": {
        "id": "view-in-github",
        "colab_type": "text"
      },
      "source": [
        "<a href=\"https://colab.research.google.com/github/johnsanford/pesquisaordenacao/blob/master/BucketSort.ipynb\" target=\"_parent\"><img src=\"https://colab.research.google.com/assets/colab-badge.svg\" alt=\"Open In Colab\"/></a>"
      ]
    },
    {
      "cell_type": "code",
      "metadata": {
        "id": "yi5yKFvh1Ilm",
        "colab_type": "code",
        "colab": {
          "base_uri": "https://localhost:8080/",
          "height": 375
        },
        "outputId": "b911925a-a18f-44a6-f4b3-e665cdf7b4d4"
      },
      "source": [
        "import time \n",
        "from numpy.random import seed \n",
        "from numpy.random import randint \n",
        "import matplotlib.pyplot as plt \n",
        "  \n",
        "\n",
        "def insertionSort(b): \n",
        "    for i in range(1, len(b)): \n",
        "        up = b[i] \n",
        "        j = i - 1\n",
        "        while j >= 0 and b[j] > up:  \n",
        "            b[j + 1] = b[j] \n",
        "            j -= 1\n",
        "        b[j + 1] = up      \n",
        "    return b      \n",
        "              \n",
        "def bucketSort(a): \n",
        "    arr = [] \n",
        "    slot_num = 10 # 10 means 10 slots, each \n",
        "                  # slot's size is 0.1 \n",
        "    for i in range(slot_num): \n",
        "        arr.append([]) \n",
        "          \n",
        "    # Put array elements in different buckets  \n",
        "    for j in x: \n",
        "        index_b = int(slot_num * j)  \n",
        "        arr[index_b].append(j) \n",
        "      \n",
        "    # Sort individual buckets  \n",
        "    for i in range(slot_num): \n",
        "        arr[i] = insertionSort(arr[i]) \n",
        "          \n",
        "    # concatenate the result \n",
        "    k = 0\n",
        "    for i in range(slot_num): \n",
        "        for j in range(len(arr[i])): \n",
        "            x[k] = arr[i][j] \n",
        "            k += 1\n",
        "    return x \n",
        "\n",
        "          \n",
        "  \n",
        "# randomly generates list of different \n",
        "# sizes and call HeapSort funtion \n",
        "elements = list() \n",
        "times = list() \n",
        "for i in range(1, 2): \n",
        "  \n",
        "    # generate some integers \n",
        "    a = randint(0, 1000000 * i, 15000 * i) \n",
        "    \n",
        "    # print(i) \n",
        "    start = time.clock() \n",
        "    bucketSort(a) \n",
        "    end = time.clock() \n",
        "  \n",
        "    # print(\"Sorted list is \", a) \n",
        "    print(len(a), \"Elementos Ordenados by BucketSort em \", end-start) \n",
        "    elements.append(len(a)) \n",
        "    times.append(end-start) \n",
        "\n",
        "    # generate some integers \n",
        "    a = randint(0, 1000000 * i, 25000 * i) \n",
        "    \n",
        "    # print(i) \n",
        "    start = time.clock() \n",
        "    bucketSort(a) \n",
        "    end = time.clock() \n",
        "  \n",
        "    # print(\"Sorted list is \", a) \n",
        "    print(len(a), \"Elementos Ordenados by BucketSort em \", end-start) \n",
        "    elements.append(len(a)) \n",
        "    times.append(end-start) \n",
        "\n",
        "    # generate some integers \n",
        "    a = randint(0, 1000000 * i, 35000 * i) \n",
        "    \n",
        "    # print(i) \n",
        "    start = time.clock() \n",
        "    bucketSort(a) \n",
        "    end = time.clock() \n",
        "  \n",
        "    # print(\"Sorted list is \", a) \n",
        "    print(len(a), \"Elementos Ordenados by BucketSort em \", end-start) \n",
        "    elements.append(len(a)) \n",
        "    times.append(end-start) \n",
        "\n",
        "    # generate some integers \n",
        "    a = randint(0, 1000000 * i, 45000 * i) \n",
        "    \n",
        "    # print(i) \n",
        "    start = time.clock() \n",
        "    bucketSort(a) \n",
        "    end = time.clock() \n",
        "  \n",
        "    # print(\"Sorted list is \", a) \n",
        "    print(len(a), \"Elementos Ordenados by BucketSort em \", end-start) \n",
        "    elements.append(len(a)) \n",
        "    times.append(end-start) \n",
        "\n",
        "    # generate some integers \n",
        "    a = randint(0, 1000000 * i, 55000 * i) \n",
        "    \n",
        "    # print(i) \n",
        "    start = time.clock() \n",
        "    bucketSort(a) \n",
        "    end = time.clock() \n",
        "  \n",
        "    # print(\"Sorted list is \", a) \n",
        "    print(len(a), \"Elementos Ordenados by BucketSort em \", end-start) \n",
        "    elements.append(len(a)) \n",
        "    times.append(end-start) \n",
        "\n",
        "\n",
        "  \n",
        "plt.xlabel('Comprimento Lista') \n",
        "plt.ylabel('Complexidade do Tempo') \n",
        "plt.plot(elements, times, label ='Bucket Sort') \n",
        "plt.grid() \n",
        "plt.legend() \n",
        "plt.show() \n",
        "# This code is contributed by John Sanford\n"
      ],
      "execution_count": 16,
      "outputs": [
        {
          "output_type": "stream",
          "text": [
            "15000 Elementos Ordenados by BucketSort em  2.6999999999333113e-05\n",
            "25000 Elementos Ordenados by BucketSort em  2.8999999997836312e-05\n",
            "35000 Elementos Ordenados by BucketSort em  2.9000000001389026e-05\n",
            "45000 Elementos Ordenados by BucketSort em  2.200000000129876e-05\n",
            "55000 Elementos Ordenados by BucketSort em  2.200000000129876e-05\n"
          ],
          "name": "stdout"
        },
        {
          "output_type": "display_data",
          "data": {
            "image/png": "[encoded data removed]",
            "text/plain": [
              "<Figure size 432x288 with 1 Axes>"
            ]
          },
          "metadata": {
            "tags": [],
            "needs_background": "light"
          }
        }
      ]
    }
  ]
}